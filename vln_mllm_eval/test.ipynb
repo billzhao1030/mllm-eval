{
 "cells": [
  {
   "cell_type": "code",
   "execution_count": 34,
   "id": "fee7ea47",
   "metadata": {},
   "outputs": [],
   "source": [
    "import MatterSim\n",
    "import math\n",
    "\n",
    "def new_simulator(connectivity_dir, scan_data_dir=None):\n",
    "    # Simulator image parameters\n",
    "    WIDTH = 640\n",
    "    HEIGHT = 480\n",
    "    VFOV = 60\n",
    "\n",
    "    sim = MatterSim.Simulator()\n",
    "    if scan_data_dir:\n",
    "        sim.setDatasetPath(scan_data_dir)\n",
    "    sim.setNavGraphPath(connectivity_dir)\n",
    "    sim.setRenderingEnabled(False)\n",
    "    sim.setCameraResolution(WIDTH, HEIGHT)\n",
    "    sim.setCameraVFOV(math.radians(VFOV))\n",
    "    sim.setDiscretizedViewingAngles(True)\n",
    "    sim.initialize()\n",
    "\n",
    "    return sim\n",
    "\n",
    "sim = new_simulator(\"../../datasets/R2R/connectivity\")\n"
   ]
  },
  {
   "cell_type": "code",
   "execution_count": 32,
   "id": "74b481ba",
   "metadata": {},
   "outputs": [
    {
     "name": "stdout",
     "output_type": "stream",
     "text": [
      "Min: 0 Max: 0 Mean: 0.0\n"
     ]
    }
   ],
   "source": [
    "scan = \"17DRP5sb8fy\"\n",
    "viewpoint = \"10c252c90fa24ef3b698c6f54d984c5c\"\n",
    "sim.newEpisode([scan], [viewpoint], [0], [0])\n",
    "\n",
    "state = sim.getState()[0]\n",
    "\n",
    "import numpy as np\n",
    "rgb_bgr = np.array(state.rgb, copy=False)\n",
    "print(\"Min:\", rgb_bgr.min(), \"Max:\", rgb_bgr.max(), \"Mean:\", rgb_bgr.mean())\n"
   ]
  },
  {
   "cell_type": "code",
   "execution_count": null,
   "id": "3bafec28",
   "metadata": {},
   "outputs": [
    {
     "name": "stderr",
     "output_type": "stream",
     "text": [
      "/root/miniconda3/envs/vlnhamt/lib/python3.8/site-packages/tqdm/auto.py:21: TqdmWarning: IProgress not found. Please update jupyter and ipywidgets. See https://ipywidgets.readthedocs.io/en/stable/user_install.html\n",
      "  from .autonotebook import tqdm as notebook_tqdm\n"
     ]
    }
   ],
   "source": [
    "import os\n",
    "import pandas as pd\n",
    "from datasets import Dataset, DatasetDict, Features, Value, Image\n",
    "from huggingface_hub import HfApi\n",
    "\n",
    "api = HfApi()\n",
    "\n",
    "api.create_repo(repo_id=\"MP3D_feature\", repo_type=\"dataset\", exist_ok=True)\n",
    "\n",
    "# Step 1: setup\n",
    "observation_dir = \"../../datasets/observations\"\n",
    "\n",
    "features = Features({\n",
    "    \"scan_id\": Value(\"string\"),\n",
    "    \"viewpoint_id\": Value(\"string\"),\n",
    "    \"image_0\": Image(),\n",
    "    \"image_1\": Image(),\n",
    "    \"image_2\": Image(),\n",
    "    \"image_3\": Image()\n",
    "})\n",
    "\n",
    "def load_single_scan(scan_id, observation_dir=observation_dir):\n",
    "    scan_folder = os.path.join(observation_dir, scan_id)\n",
    "    rows = []\n",
    "    \n",
    "    if not os.path.isdir(scan_folder):\n",
    "        return None  # Skip non-folders\n",
    "\n",
    "    viewpoint_groups = {}\n",
    "    for file in os.listdir(scan_folder):\n",
    "        if file.endswith(\".png\"):\n",
    "            try:\n",
    "                viewpoint_id, direction = file[:-4].split('_')\n",
    "                direction = int(direction)\n",
    "            except ValueError:\n",
    "                print(f\"Skipping malformed file name: {file}\")\n",
    "                continue\n",
    "\n",
    "            key = (scan_id, viewpoint_id)\n",
    "            if key not in viewpoint_groups:\n",
    "                viewpoint_groups[key] = [None] * 4\n",
    "\n",
    "            img_path = os.path.join(scan_folder, file)\n",
    "            with open(img_path, \"rb\") as f:\n",
    "                viewpoint_groups[key][direction] = f.read()\n",
    "\n",
    "    for (scan_id, viewpoint_id), images in viewpoint_groups.items():\n",
    "        if all(images):\n",
    "            rows.append({\n",
    "                \"scan_id\": scan_id,\n",
    "                \"viewpoint_id\": viewpoint_id,\n",
    "                \"image_0\": images[0],\n",
    "                \"image_1\": images[1],\n",
    "                \"image_2\": images[2],\n",
    "                \"image_3\": images[3],\n",
    "            })\n",
    "\n",
    "    if rows:\n",
    "        return pd.DataFrame(rows)\n",
    "    else:\n",
    "        return None"
   ]
  },
  {
   "cell_type": "code",
   "execution_count": null,
   "id": "6b1e3128",
   "metadata": {},
   "outputs": [],
   "source": [
    "# Step 2: build dataset \n",
    "\n",
    "# Choose how many scans you want to upload at once (small batches recommended)\n",
    "scan_ids = os.listdir(observation_dir)\n",
    "scan_ids.sort()\n",
    "\n",
    "for i, scan_id in enumerate(scan_ids):\n",
    "    print(f\"Processing scan {i+1}: {scan_id}\")\n",
    "\n",
    "    df_scan = load_single_scan(scan_id, observation_dir)\n",
    "\n",
    "    dataset = Dataset.from_pandas(df_scan, features=features)\n",
    "\n",
    "    # Push this dataset as a new split\n",
    "    dataset.push_to_hub(\"billzhao1030/MP3D_feature\", split=scan_id)\n",
    "    print(f\"Uploaded scan '{scan_id}' as a split.\")"
   ]
  },
  {
   "cell_type": "code",
   "execution_count": 19,
   "id": "63a8935b",
   "metadata": {},
   "outputs": [],
   "source": [
    "from datasets import load_dataset\n",
    "from tqdm import tqdm\n",
    "import os\n",
    "from PIL import Image\n",
    "from huggingface_hub import hf_hub_download\n",
    "import json\n",
    "def load_hub_data(repo_id, filename, extension=\"json\"):\n",
    "    json_path = hf_hub_download(\n",
    "        repo_id=repo_id,\n",
    "        filename=filename,\n",
    "        repo_type=\"dataset\"\n",
    "    )\n",
    "\n",
    "    if extension.lower() == \"json\":\n",
    "        with open(json_path, 'r') as f:\n",
    "            data = json.load(f)\n",
    "        return data\n",
    "    elif extension.lower() == \"txt\":\n",
    "        with open(json_path, 'r') as f:\n",
    "            data = [line.strip() for line in f]\n",
    "        return data\n",
    "    else:\n",
    "        print(f\"Unsupported extension: {extension}.\")\n",
    "        return None\n",
    "\n",
    "# Step 1: setup\n",
    "observation_dir = \"../../datasets/observations\"\n",
    "scan_ids = load_hub_data(\"billzhao1030/MP3D\", \"scans.txt\", extension=\"txt\")\n",
    "\n",
    "\n",
    "# Setup\n",
    "dataset_repo = \"billzhao1030/MP3D_feature\"\n",
    "save_dir = \"observation\"\n"
   ]
  },
  {
   "cell_type": "code",
   "execution_count": 7,
   "id": "80c8bb5c",
   "metadata": {},
   "outputs": [
    {
     "name": "stderr",
     "output_type": "stream",
     "text": [
      "Processing scans:   0%|          | 0/1 [00:00<?, ?it/s]"
     ]
    },
    {
     "name": "stdout",
     "output_type": "stream",
     "text": [
      "\n",
      "Downloading split (scan): 17DRP5sb8fy\n"
     ]
    },
    {
     "name": "stderr",
     "output_type": "stream",
     "text": [
      "Processing scans: 100%|██████████| 1/1 [01:08<00:00, 68.89s/it]"
     ]
    },
    {
     "name": "stdout",
     "output_type": "stream",
     "text": [
      "✅ Finished scan 17DRP5sb8fy.\n",
      "\n"
     ]
    },
    {
     "name": "stderr",
     "output_type": "stream",
     "text": [
      "\n"
     ]
    }
   ],
   "source": [
    "# Download scan-by-scan\n",
    "for scan_id in tqdm(scan_ids[:1], desc=\"Processing scans\"):\n",
    "\n",
    "    # Create the scan folder locally\n",
    "    scan_folder = os.path.join(save_dir, scan_id)\n",
    "    os.makedirs(scan_folder, exist_ok=True)\n",
    "\n",
    "    # If already exists and non-empty, skip\n",
    "    if os.listdir(scan_folder):\n",
    "        print(f\"Scan {scan_id} already downloaded, skipping.\")\n",
    "        continue\n",
    "\n",
    "    print(f\"\\nDownloading split (scan): {scan_id}\")\n",
    "    scan_dataset = load_dataset(dataset_repo, split=scan_id, streaming=True)\n",
    "\n",
    "    for item in tqdm(scan_dataset, desc=f\"Downloading {scan_id}\", leave=False):\n",
    "\n",
    "        viewpoint_id = item[\"viewpoint_id\"]\n",
    "\n",
    "        # Save four images\n",
    "        for i in range(4):\n",
    "            img = item[f\"image_{i}\"]  # <--- directly get the PIL image!\n",
    "            img_save_path = os.path.join(scan_folder, f\"{viewpoint_id}_{i}.png\")\n",
    "            img.save(img_save_path)\n",
    "\n",
    "    print(f\"✅ Finished scan {scan_id}.\\n\")"
   ]
  }
 ],
 "metadata": {
  "kernelspec": {
   "display_name": "vlnhamt",
   "language": "python",
   "name": "python3"
  },
  "language_info": {
   "codemirror_mode": {
    "name": "ipython",
    "version": 3
   },
   "file_extension": ".py",
   "mimetype": "text/x-python",
   "name": "python",
   "nbconvert_exporter": "python",
   "pygments_lexer": "ipython3",
   "version": "3.8.18"
  }
 },
 "nbformat": 4,
 "nbformat_minor": 5
}
