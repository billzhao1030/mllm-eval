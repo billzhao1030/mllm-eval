{
 "cells": [
  {
   "cell_type": "code",
   "execution_count": null,
   "id": "1fb2c6c1",
   "metadata": {},
   "outputs": [],
   "source": [
    "import logging\n",
    "logger = logging.getLogger(__name__)\n",
    "logging.basicConfig(level=logging.INFO)\n",
    "\n",
    "from PIL import Image\n",
    "from models import get_models\n",
    "model_cls = get_models(\"qwen2_5_vl\", logger)\n",
    "model = model_cls(config={})\n",
    "\n",
    "    # Prepare the input data\n",
    "image_paths = [\n",
    "    \"./data/0b22fa63d0f54a529c525afbf2e8bb25_0.png\",\n",
    "    \"./data/0b22fa63d0f54a529c525afbf2e8bb25_1.png\",\n",
    "    \"./data/0b22fa63d0f54a529c525afbf2e8bb25_2.png\",\n",
    "    \"./data/0b22fa63d0f54a529c525afbf2e8bb25_3.png\",\n",
    "]\n",
    "images = []\n",
    "for path in image_paths:\n",
    "    try:\n",
    "        img = Image.open(path).convert(\"RGB\")\n",
    "        images.append(img)\n",
    "    except FileNotFoundError:\n",
    "        logger.error(f\"Image file not found: {path}\")\n",
    "        exit()\n",
    "\n",
    "input_data = {\n",
    "    \"views\": images,\n",
    "    \"instruction\": \"Describe the scene in detail.\"\n",
    "}\n",
    "prompt = \"{image} {instruction}\"\n",
    "\n",
    "output = model(prompt, input_data)\n",
    "\n",
    "print(output)\n",
    "\n",
    "print(\"done\")"
   ]
  }
 ],
 "metadata": {
  "kernelspec": {
   "display_name": "Python 3",
   "language": "python",
   "name": "python3"
  },
  "language_info": {
   "codemirror_mode": {
    "name": "ipython",
    "version": 3
   },
   "file_extension": ".py",
   "mimetype": "text/x-python",
   "name": "python",
   "nbconvert_exporter": "python",
   "pygments_lexer": "ipython3",
   "version": "3.12.2"
  }
 },
 "nbformat": 4,
 "nbformat_minor": 5
}
