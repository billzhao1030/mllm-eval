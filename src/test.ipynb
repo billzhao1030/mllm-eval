{
 "cells": [
  {
   "cell_type": "code",
   "execution_count": null,
   "id": "1fb2c6c1",
   "metadata": {},
   "outputs": [],
   "source": [
    "import logging\n",
    "logger = logging.getLogger(__name__)\n",
    "logging.basicConfig(level=logging.INFO)\n",
    "\n",
    "from PIL import Image\n",
    "from models import get_models\n",
    "model_cls = get_models(\"qwen2_5_vl\", logger)\n",
    "model = model_cls(config={})\n",
    "\n",
    "    # Prepare the input data\n",
    "image_paths = [\n",
    "    \"./data/0b22fa63d0f54a529c525afbf2e8bb25_0.png\",\n",
    "    \"./data/0b22fa63d0f54a529c525afbf2e8bb25_1.png\",\n",
    "    \"./data/0b22fa63d0f54a529c525afbf2e8bb25_2.png\",\n",
    "    \"./data/0b22fa63d0f54a529c525afbf2e8bb25_3.png\",\n",
    "]\n",
    "images = []\n",
    "for path in image_paths:\n",
    "    try:\n",
    "        img = Image.open(path).convert(\"RGB\")\n",
    "        images.append(img)\n",
    "    except FileNotFoundError:\n",
    "        logger.error(f\"Image file not found: {path}\")\n",
    "        exit()\n",
    "\n",
    "input_data = {\n",
    "    \"views\": images,\n",
    "    \"instruction\": \"Describe the scene in detail.\"\n",
    "}\n",
    "prompt = \"{image} {instruction}\"\n",
    "\n",
    "output = model(prompt, input_data)\n",
    "\n",
    "print(output)\n",
    "\n",
    "print(\"done\")"
   ]
  },
  {
   "cell_type": "code",
   "execution_count": 1,
   "id": "0b8ac91b",
   "metadata": {},
   "outputs": [
    {
     "name": "stderr",
     "output_type": "stream",
     "text": [
      "/root/miniconda3/envs/navgpt/lib/python3.8/site-packages/tqdm/auto.py:21: TqdmWarning: IProgress not found. Please update jupyter and ipywidgets. See https://ipywidgets.readthedocs.io/en/stable/user_install.html\n",
      "  from .autonotebook import tqdm as notebook_tqdm\n"
     ]
    }
   ],
   "source": [
    "import os\n",
    "import pandas as pd\n",
    "from datasets import Dataset, Features, Value, Image\n",
    "from huggingface_hub import HfApi\n",
    "\n",
    "# Mapping from direction string to column name\n",
    "DIRECTION_MAP = {\n",
    "    \"left\": \"left\",\n",
    "    \"front\": \"front\",\n",
    "    \"right\": \"right\",\n",
    "    \"back\": \"back\"\n",
    "}\n",
    "\n",
    "def load_single_scan(scan_id, observation_dir):\n",
    "    scan_folder = os.path.join(observation_dir)\n",
    "    rows = {}\n",
    "\n",
    "    for file in os.listdir(scan_folder):\n",
    "        if not file.endswith(\".png\"):\n",
    "            continue\n",
    "        try:\n",
    "            name = file[:-4]  # remove .png\n",
    "            parts = name.split(\"_\")\n",
    "            if len(parts) < 3:\n",
    "                print(f\"Skipping malformed file name: {file}\")\n",
    "                continue\n",
    "            scan_id_file = parts[0]\n",
    "            viewpoint_id = parts[1]\n",
    "            direction = \"_\".join(parts[2:])\n",
    "        except Exception as e:\n",
    "            print(f\"Error parsing filename '{file}': {e}\")\n",
    "            continue\n",
    "\n",
    "        if scan_id_file != scan_id or direction not in DIRECTION_MAP:\n",
    "            continue\n",
    "\n",
    "        key = (scan_id, viewpoint_id)\n",
    "        if key not in rows:\n",
    "            rows[key] = {\n",
    "                \"scan_id\": scan_id,\n",
    "                \"viewpoint_id\": viewpoint_id,\n",
    "                \"left\": None,\n",
    "                \"front\": None,\n",
    "                \"right\": None,\n",
    "                \"back\": None\n",
    "            }\n",
    "\n",
    "        rows[key][DIRECTION_MAP[direction]] = os.path.join(scan_folder, file)\n",
    "\n",
    "    valid_rows = []\n",
    "    for row in rows.values():\n",
    "        if all(row[d] is not None for d in [\"left\", \"front\", \"right\", \"back\"]):\n",
    "            valid_rows.append(row)\n",
    "        else:\n",
    "            print(f\"Skipping incomplete viewpoint {row['viewpoint_id']} in scan {scan_id}\")\n",
    "\n",
    "    return pd.DataFrame(valid_rows) if valid_rows else None\n"
   ]
  },
  {
   "cell_type": "code",
   "execution_count": 5,
   "id": "84b5c26c",
   "metadata": {},
   "outputs": [
    {
     "name": "stdout",
     "output_type": "stream",
     "text": [
      "\n",
      "[1/90] Processing scan: 17DRP5sb8fy\n",
      "Pushing scan '17DRP5sb8fy' to Hugging Face Hub...\n"
     ]
    },
    {
     "name": "stderr",
     "output_type": "stream",
     "text": [
      "Map: 100%|██████████| 44/44 [00:00<00:00, 468.00 examples/s] ?it/s]\n",
      "Creating parquet from Arrow format: 100%|██████████| 1/1 [00:00<00:00, 51.21ba/s]\n",
      "Uploading the dataset shards: 100%|██████████| 1/1 [00:01<00:00,  1.35s/it]\n",
      "No files have been modified since last commit. Skipping to prevent empty commit.\n"
     ]
    },
    {
     "name": "stdout",
     "output_type": "stream",
     "text": [
      "✅ Uploaded split: 17DRP5sb8fy\n",
      "\n",
      "[2/90] Processing scan: 1LXtFkjw3qL\n",
      "Pushing scan '1LXtFkjw3qL' to Hugging Face Hub...\n"
     ]
    },
    {
     "name": "stderr",
     "output_type": "stream",
     "text": [
      "Map: 100%|██████████| 131/131 [00:01<00:00, 121.93 examples/s]it/s]\n",
      "Creating parquet from Arrow format: 100%|██████████| 2/2 [00:00<00:00, 21.35ba/s]\n",
      "Uploading the dataset shards: 100%|██████████| 1/1 [00:10<00:00, 10.48s/it]\n"
     ]
    },
    {
     "name": "stdout",
     "output_type": "stream",
     "text": [
      "✅ Uploaded split: 1LXtFkjw3qL\n",
      "\n",
      "[3/90] Processing scan: 1pXnuDYAj8r\n",
      "Pushing scan '1pXnuDYAj8r' to Hugging Face Hub...\n"
     ]
    },
    {
     "name": "stderr",
     "output_type": "stream",
     "text": [
      "Map: 100%|██████████| 95/95 [00:00<00:00, 107.34 examples/s] ?it/s]\n",
      "Creating parquet from Arrow format: 100%|██████████| 1/1 [00:00<00:00, 11.84ba/s]\n",
      "Uploading the dataset shards: 100%|██████████| 1/1 [00:07<00:00,  7.96s/it]\n"
     ]
    },
    {
     "name": "stdout",
     "output_type": "stream",
     "text": [
      "✅ Uploaded split: 1pXnuDYAj8r\n",
      "\n",
      "[4/90] Processing scan: 29hnd4uzFmX\n",
      "Pushing scan '29hnd4uzFmX' to Hugging Face Hub...\n"
     ]
    },
    {
     "name": "stderr",
     "output_type": "stream",
     "text": [
      "Map: 100%|██████████| 102/102 [00:00<00:00, 113.89 examples/s]it/s]\n",
      "Creating parquet from Arrow format: 100%|██████████| 2/2 [00:00<00:00, 28.62ba/s]\n",
      "Uploading the dataset shards: 100%|██████████| 1/1 [00:03<00:00,  3.85s/it]\n"
     ]
    },
    {
     "name": "stdout",
     "output_type": "stream",
     "text": [
      "✅ Uploaded split: 29hnd4uzFmX\n",
      "\n",
      "[5/90] Processing scan: 2azQ1b91cZZ\n",
      "Pushing scan '2azQ1b91cZZ' to Hugging Face Hub...\n"
     ]
    },
    {
     "name": "stderr",
     "output_type": "stream",
     "text": [
      "Map: 100%|██████████| 215/215 [00:02<00:00, 106.42 examples/s]it/s]\n",
      "Creating parquet from Arrow format: 100%|██████████| 3/3 [00:00<00:00, 17.31ba/s]\n",
      "Uploading the dataset shards: 100%|██████████| 1/1 [00:06<00:00,  6.59s/it]\n"
     ]
    },
    {
     "name": "stdout",
     "output_type": "stream",
     "text": [
      "✅ Uploaded split: 2azQ1b91cZZ\n",
      "\n",
      "[6/90] Processing scan: 2n8kARJN3HM\n",
      "Pushing scan '2n8kARJN3HM' to Hugging Face Hub...\n"
     ]
    },
    {
     "name": "stderr",
     "output_type": "stream",
     "text": [
      "Map: 100%|██████████| 186/186 [00:01<00:00, 117.18 examples/s]it/s]\n",
      "Creating parquet from Arrow format: 100%|██████████| 2/2 [00:00<00:00, 14.14ba/s]\n",
      "Uploading the dataset shards: 100%|██████████| 1/1 [00:06<00:00,  6.44s/it]\n"
     ]
    },
    {
     "name": "stdout",
     "output_type": "stream",
     "text": [
      "✅ Uploaded split: 2n8kARJN3HM\n",
      "\n",
      "[7/90] Processing scan: 2t7WUuJeko7\n",
      "Pushing scan '2t7WUuJeko7' to Hugging Face Hub...\n"
     ]
    },
    {
     "name": "stderr",
     "output_type": "stream",
     "text": [
      "Map: 100%|██████████| 37/37 [00:00<00:00, 105.32 examples/s] ?it/s]\n",
      "Creating parquet from Arrow format: 100%|██████████| 1/1 [00:00<00:00, 37.83ba/s]\n",
      "Uploading the dataset shards: 100%|██████████| 1/1 [00:03<00:00,  3.35s/it]\n"
     ]
    },
    {
     "name": "stdout",
     "output_type": "stream",
     "text": [
      "✅ Uploaded split: 2t7WUuJeko7\n",
      "\n",
      "[8/90] Processing scan: 5LpN3gDmAk7\n",
      "Pushing scan '5LpN3gDmAk7' to Hugging Face Hub...\n"
     ]
    },
    {
     "name": "stderr",
     "output_type": "stream",
     "text": [
      "Map: 100%|██████████| 140/140 [00:01<00:00, 125.70 examples/s]it/s]\n",
      "Creating parquet from Arrow format: 100%|██████████| 2/2 [00:00<00:00, 21.54ba/s]\n",
      "Uploading the dataset shards: 100%|██████████| 1/1 [00:04<00:00,  4.26s/it]\n"
     ]
    },
    {
     "name": "stdout",
     "output_type": "stream",
     "text": [
      "✅ Uploaded split: 5LpN3gDmAk7\n",
      "\n",
      "[9/90] Processing scan: 5ZKStnWn8Zo\n",
      "Pushing scan '5ZKStnWn8Zo' to Hugging Face Hub...\n"
     ]
    },
    {
     "name": "stderr",
     "output_type": "stream",
     "text": [
      "Map: 100%|██████████| 163/163 [00:01<00:00, 113.33 examples/s]it/s]\n",
      "Creating parquet from Arrow format: 100%|██████████| 2/2 [00:00<00:00, 18.99ba/s]\n",
      "Uploading the dataset shards: 100%|██████████| 1/1 [00:05<00:00,  5.18s/it]\n"
     ]
    },
    {
     "name": "stdout",
     "output_type": "stream",
     "text": [
      "✅ Uploaded split: 5ZKStnWn8Zo\n",
      "\n",
      "[10/90] Processing scan: 5q7pvUzZiYa\n",
      "Pushing scan '5q7pvUzZiYa' to Hugging Face Hub...\n"
     ]
    },
    {
     "name": "stderr",
     "output_type": "stream",
     "text": [
      "Map: 100%|██████████| 89/89 [00:00<00:00, 112.34 examples/s] ?it/s]\n",
      "Creating parquet from Arrow format: 100%|██████████| 1/1 [00:00<00:00, 13.43ba/s]\n",
      "Uploading the dataset shards: 100%|██████████| 1/1 [00:04<00:00,  4.41s/it]\n"
     ]
    },
    {
     "name": "stdout",
     "output_type": "stream",
     "text": [
      "✅ Uploaded split: 5q7pvUzZiYa\n",
      "\n",
      "[11/90] Processing scan: 759xd9YjKW5\n",
      "Pushing scan '759xd9YjKW5' to Hugging Face Hub...\n"
     ]
    },
    {
     "name": "stderr",
     "output_type": "stream",
     "text": [
      "Map: 100%|██████████| 61/61 [00:00<00:00, 108.34 examples/s] ?it/s]\n",
      "Creating parquet from Arrow format: 100%|██████████| 1/1 [00:00<00:00, 24.04ba/s]\n",
      "Uploading the dataset shards: 100%|██████████| 1/1 [00:02<00:00,  2.68s/it]\n"
     ]
    },
    {
     "name": "stdout",
     "output_type": "stream",
     "text": [
      "✅ Uploaded split: 759xd9YjKW5\n",
      "\n",
      "[12/90] Processing scan: 7y3sRwLe3Va\n",
      "Pushing scan '7y3sRwLe3Va' to Hugging Face Hub...\n"
     ]
    },
    {
     "name": "stderr",
     "output_type": "stream",
     "text": [
      "Map: 100%|██████████| 106/106 [00:00<00:00, 122.36 examples/s]it/s]\n",
      "Creating parquet from Arrow format: 100%|██████████| 2/2 [00:00<00:00, 27.89ba/s]\n",
      "Uploading the dataset shards: 100%|██████████| 1/1 [00:03<00:00,  3.54s/it]\n"
     ]
    },
    {
     "name": "stdout",
     "output_type": "stream",
     "text": [
      "✅ Uploaded split: 7y3sRwLe3Va\n",
      "\n",
      "[13/90] Processing scan: 8194nk5LbLH\n",
      "Pushing scan '8194nk5LbLH' to Hugging Face Hub...\n"
     ]
    },
    {
     "name": "stderr",
     "output_type": "stream",
     "text": [
      "Map: 100%|██████████| 20/20 [00:00<00:00, 110.64 examples/s] ?it/s]\n",
      "Creating parquet from Arrow format: 100%|██████████| 1/1 [00:00<00:00, 68.95ba/s]\n",
      "Uploading the dataset shards: 100%|██████████| 1/1 [00:01<00:00,  1.89s/it]\n"
     ]
    },
    {
     "name": "stdout",
     "output_type": "stream",
     "text": [
      "✅ Uploaded split: 8194nk5LbLH\n",
      "\n",
      "[14/90] Processing scan: 82sE5b5pLXE\n",
      "Pushing scan '82sE5b5pLXE' to Hugging Face Hub...\n"
     ]
    },
    {
     "name": "stderr",
     "output_type": "stream",
     "text": [
      "Map: 100%|██████████| 135/135 [00:01<00:00, 115.48 examples/s]it/s]\n",
      "Creating parquet from Arrow format: 100%|██████████| 2/2 [00:00<00:00, 20.64ba/s]\n",
      "Uploading the dataset shards: 100%|██████████| 1/1 [00:04<00:00,  4.27s/it]\n"
     ]
    },
    {
     "name": "stdout",
     "output_type": "stream",
     "text": [
      "✅ Uploaded split: 82sE5b5pLXE\n",
      "\n",
      "[15/90] Processing scan: 8WUmhLawc2A\n",
      "Pushing scan '8WUmhLawc2A' to Hugging Face Hub...\n"
     ]
    },
    {
     "name": "stderr",
     "output_type": "stream",
     "text": [
      "Map: 100%|██████████| 95/95 [00:00<00:00, 117.56 examples/s] ?it/s]\n",
      "Creating parquet from Arrow format: 100%|██████████| 1/1 [00:00<00:00,  9.26ba/s]\n",
      "Uploading the dataset shards: 100%|██████████| 1/1 [00:03<00:00,  3.57s/it]\n"
     ]
    },
    {
     "name": "stdout",
     "output_type": "stream",
     "text": [
      "✅ Uploaded split: 8WUmhLawc2A\n",
      "\n",
      "[16/90] Processing scan: ARNzJeq3xxb\n",
      "Pushing scan 'ARNzJeq3xxb' to Hugging Face Hub...\n"
     ]
    },
    {
     "name": "stderr",
     "output_type": "stream",
     "text": [
      "Map: 100%|██████████| 83/83 [00:00<00:00, 117.58 examples/s] ?it/s]\n",
      "Creating parquet from Arrow format: 100%|██████████| 1/1 [00:00<00:00, 13.51ba/s]\n",
      "Uploading the dataset shards: 100%|██████████| 1/1 [00:04<00:00,  4.87s/it]\n"
     ]
    },
    {
     "name": "stdout",
     "output_type": "stream",
     "text": [
      "✅ Uploaded split: ARNzJeq3xxb\n",
      "\n",
      "[17/90] Processing scan: B6ByNegPMKs\n",
      "Pushing scan 'B6ByNegPMKs' to Hugging Face Hub...\n"
     ]
    },
    {
     "name": "stderr",
     "output_type": "stream",
     "text": [
      "Map: 100%|██████████| 348/348 [00:02<00:00, 124.28 examples/s]it/s]\n",
      "Creating parquet from Arrow format: 100%|██████████| 4/4 [00:00<00:00, 17.58ba/s]\n",
      "Uploading the dataset shards: 100%|██████████| 1/1 [00:08<00:00,  9.00s/it]\n"
     ]
    },
    {
     "name": "stdout",
     "output_type": "stream",
     "text": [
      "✅ Uploaded split: B6ByNegPMKs\n",
      "\n",
      "[18/90] Processing scan: D7G3Y4RVNrH\n",
      "Pushing scan 'D7G3Y4RVNrH' to Hugging Face Hub...\n"
     ]
    },
    {
     "name": "stderr",
     "output_type": "stream",
     "text": [
      "Map: 100%|██████████| 49/49 [00:00<00:00, 112.84 examples/s] ?it/s]\n",
      "Creating parquet from Arrow format: 100%|██████████| 1/1 [00:00<00:00, 28.99ba/s]\n",
      "Uploading the dataset shards: 100%|██████████| 1/1 [00:02<00:00,  2.63s/it]\n"
     ]
    },
    {
     "name": "stdout",
     "output_type": "stream",
     "text": [
      "✅ Uploaded split: D7G3Y4RVNrH\n",
      "\n",
      "[19/90] Processing scan: D7N2EKCX4Sj\n",
      "Pushing scan 'D7N2EKCX4Sj' to Hugging Face Hub...\n"
     ]
    },
    {
     "name": "stderr",
     "output_type": "stream",
     "text": [
      "Map: 100%|██████████| 260/260 [00:02<00:00, 113.92 examples/s]it/s]\n",
      "Creating parquet from Arrow format: 100%|██████████| 3/3 [00:00<00:00, 12.60ba/s]\n",
      "Uploading the dataset shards: 100%|██████████| 1/1 [00:08<00:00,  8.06s/it]\n"
     ]
    },
    {
     "name": "stdout",
     "output_type": "stream",
     "text": [
      "✅ Uploaded split: D7N2EKCX4Sj\n",
      "\n",
      "[20/90] Processing scan: E9uDoFAP3SH\n",
      "Pushing scan 'E9uDoFAP3SH' to Hugging Face Hub...\n"
     ]
    },
    {
     "name": "stderr",
     "output_type": "stream",
     "text": [
      "Map: 100%|██████████| 217/217 [00:01<00:00, 112.79 examples/s]it/s]\n",
      "Creating parquet from Arrow format: 100%|██████████| 3/3 [00:00<00:00, 14.80ba/s]\n",
      "Uploading the dataset shards: 100%|██████████| 1/1 [00:07<00:00,  7.06s/it]\n"
     ]
    },
    {
     "name": "stdout",
     "output_type": "stream",
     "text": [
      "✅ Uploaded split: E9uDoFAP3SH\n",
      "\n",
      "[21/90] Processing scan: EDJbREhghzL\n",
      "Pushing scan 'EDJbREhghzL' to Hugging Face Hub...\n"
     ]
    },
    {
     "name": "stderr",
     "output_type": "stream",
     "text": [
      "Map: 100%|██████████| 70/70 [00:00<00:00, 107.97 examples/s] ?it/s]\n",
      "Creating parquet from Arrow format: 100%|██████████| 1/1 [00:00<00:00, 14.90ba/s]\n",
      "Uploading the dataset shards: 100%|██████████| 1/1 [00:04<00:00,  4.42s/it]\n"
     ]
    },
    {
     "name": "stdout",
     "output_type": "stream",
     "text": [
      "✅ Uploaded split: EDJbREhghzL\n",
      "\n",
      "[22/90] Processing scan: EU6Fwq7SyZv\n",
      "Pushing scan 'EU6Fwq7SyZv' to Hugging Face Hub...\n"
     ]
    },
    {
     "name": "stderr",
     "output_type": "stream",
     "text": [
      "Map: 100%|██████████| 78/78 [00:00<00:00, 104.50 examples/s] ?it/s]\n",
      "Creating parquet from Arrow format: 100%|██████████| 1/1 [00:00<00:00, 11.75ba/s]\n",
      "Uploading the dataset shards: 100%|██████████| 1/1 [00:03<00:00,  3.84s/it]\n"
     ]
    },
    {
     "name": "stdout",
     "output_type": "stream",
     "text": [
      "✅ Uploaded split: EU6Fwq7SyZv\n",
      "\n",
      "[23/90] Processing scan: GdvgFV5R1Z5\n",
      "Pushing scan 'GdvgFV5R1Z5' to Hugging Face Hub...\n"
     ]
    },
    {
     "name": "stderr",
     "output_type": "stream",
     "text": [
      "Map: 100%|██████████| 12/12 [00:00<00:00, 103.91 examples/s] ?it/s]\n",
      "Creating parquet from Arrow format: 100%|██████████| 1/1 [00:00<00:00, 252.26ba/s]\n",
      "Uploading the dataset shards: 100%|██████████| 1/1 [00:04<00:00,  5.00s/it]\n"
     ]
    },
    {
     "name": "stdout",
     "output_type": "stream",
     "text": [
      "✅ Uploaded split: GdvgFV5R1Z5\n",
      "\n",
      "[24/90] Processing scan: HxpKQynjfin\n",
      "Pushing scan 'HxpKQynjfin' to Hugging Face Hub...\n"
     ]
    },
    {
     "name": "stderr",
     "output_type": "stream",
     "text": [
      "Map: 100%|██████████| 34/34 [00:00<00:00, 122.49 examples/s] ?it/s]\n",
      "Creating parquet from Arrow format: 100%|██████████| 1/1 [00:00<00:00, 98.00ba/s]\n",
      "Uploading the dataset shards: 100%|██████████| 1/1 [00:01<00:00,  1.87s/it]\n"
     ]
    },
    {
     "name": "stdout",
     "output_type": "stream",
     "text": [
      "✅ Uploaded split: HxpKQynjfin\n",
      "\n",
      "[25/90] Processing scan: JF19kD82Mey\n",
      "Pushing scan 'JF19kD82Mey' to Hugging Face Hub...\n"
     ]
    },
    {
     "name": "stderr",
     "output_type": "stream",
     "text": [
      "Map: 100%|██████████| 50/50 [00:00<00:00, 122.35 examples/s] ?it/s]\n",
      "Creating parquet from Arrow format: 100%|██████████| 1/1 [00:00<00:00, 71.33ba/s]\n",
      "Uploading the dataset shards: 100%|██████████| 1/1 [00:02<00:00,  2.56s/it]\n"
     ]
    },
    {
     "name": "stdout",
     "output_type": "stream",
     "text": [
      "✅ Uploaded split: JF19kD82Mey\n",
      "\n",
      "[26/90] Processing scan: JeFG25nYj2p\n",
      "Pushing scan 'JeFG25nYj2p' to Hugging Face Hub...\n"
     ]
    },
    {
     "name": "stderr",
     "output_type": "stream",
     "text": [
      "Map: 100%|██████████| 84/84 [00:00<00:00, 129.61 examples/s] ?it/s]\n",
      "Creating parquet from Arrow format: 100%|██████████| 1/1 [00:00<00:00, 17.00ba/s]\n",
      "Uploading the dataset shards: 100%|██████████| 1/1 [00:02<00:00,  2.87s/it]\n"
     ]
    },
    {
     "name": "stdout",
     "output_type": "stream",
     "text": [
      "✅ Uploaded split: JeFG25nYj2p\n",
      "\n",
      "[27/90] Processing scan: JmbYfDe2QKZ\n",
      "Pushing scan 'JmbYfDe2QKZ' to Hugging Face Hub...\n"
     ]
    },
    {
     "name": "stderr",
     "output_type": "stream",
     "text": [
      "Map: 100%|██████████| 79/79 [00:00<00:00, 112.72 examples/s] ?it/s]\n",
      "Creating parquet from Arrow format: 100%|██████████| 1/1 [00:00<00:00, 16.70ba/s]\n",
      "Uploading the dataset shards: 100%|██████████| 1/1 [00:06<00:00,  6.10s/it]\n"
     ]
    },
    {
     "name": "stdout",
     "output_type": "stream",
     "text": [
      "✅ Uploaded split: JmbYfDe2QKZ\n",
      "\n",
      "[28/90] Processing scan: PX4nDJXEHrG\n",
      "Pushing scan 'PX4nDJXEHrG' to Hugging Face Hub...\n"
     ]
    },
    {
     "name": "stderr",
     "output_type": "stream",
     "text": [
      "Map: 100%|██████████| 282/282 [00:02<00:00, 121.89 examples/s]it/s]\n",
      "Creating parquet from Arrow format: 100%|██████████| 3/3 [00:00<00:00, 15.09ba/s]\n",
      "Uploading the dataset shards: 100%|██████████| 1/1 [00:07<00:00,  7.54s/it]\n"
     ]
    },
    {
     "name": "stdout",
     "output_type": "stream",
     "text": [
      "✅ Uploaded split: PX4nDJXEHrG\n",
      "\n",
      "[29/90] Processing scan: Pm6F8kyY3z2\n",
      "Pushing scan 'Pm6F8kyY3z2' to Hugging Face Hub...\n"
     ]
    },
    {
     "name": "stderr",
     "output_type": "stream",
     "text": [
      "Map: 100%|██████████| 34/34 [00:00<00:00, 98.53 examples/s], ?it/s]\n",
      "Creating parquet from Arrow format: 100%|██████████| 1/1 [00:00<00:00, 44.65ba/s]\n",
      "Uploading the dataset shards: 100%|██████████| 1/1 [00:05<00:00,  5.56s/it]\n"
     ]
    },
    {
     "name": "stdout",
     "output_type": "stream",
     "text": [
      "✅ Uploaded split: Pm6F8kyY3z2\n",
      "\n",
      "[30/90] Processing scan: PuKPg4mmafe\n",
      "Pushing scan 'PuKPg4mmafe' to Hugging Face Hub...\n"
     ]
    },
    {
     "name": "stderr",
     "output_type": "stream",
     "text": [
      "Map: 100%|██████████| 91/91 [00:00<00:00, 119.56 examples/s] ?it/s]\n",
      "Creating parquet from Arrow format: 100%|██████████| 1/1 [00:00<00:00, 13.23ba/s]\n",
      "Uploading the dataset shards: 100%|██████████| 1/1 [00:03<00:00,  3.47s/it]\n"
     ]
    },
    {
     "name": "stdout",
     "output_type": "stream",
     "text": [
      "✅ Uploaded split: PuKPg4mmafe\n",
      "\n",
      "[31/90] Processing scan: QUCTc6BB5sX\n",
      "Pushing scan 'QUCTc6BB5sX' to Hugging Face Hub...\n"
     ]
    },
    {
     "name": "stderr",
     "output_type": "stream",
     "text": [
      "Map: 100%|██████████| 145/145 [00:01<00:00, 126.30 examples/s]it/s]\n",
      "Creating parquet from Arrow format: 100%|██████████| 2/2 [00:00<00:00, 20.16ba/s]\n",
      "Uploading the dataset shards: 100%|██████████| 1/1 [00:05<00:00,  5.65s/it]\n"
     ]
    },
    {
     "name": "stdout",
     "output_type": "stream",
     "text": [
      "✅ Uploaded split: QUCTc6BB5sX\n",
      "\n",
      "[32/90] Processing scan: RPmz2sHmrrY\n",
      "Pushing scan 'RPmz2sHmrrY' to Hugging Face Hub...\n"
     ]
    },
    {
     "name": "stderr",
     "output_type": "stream",
     "text": [
      "Map: 100%|██████████| 59/59 [00:00<00:00, 124.73 examples/s] ?it/s]\n",
      "Creating parquet from Arrow format: 100%|██████████| 1/1 [00:00<00:00, 35.70ba/s]\n",
      "Uploading the dataset shards: 100%|██████████| 1/1 [00:02<00:00,  2.64s/it]\n"
     ]
    },
    {
     "name": "stdout",
     "output_type": "stream",
     "text": [
      "✅ Uploaded split: RPmz2sHmrrY\n",
      "\n",
      "[33/90] Processing scan: S9hNv5qa7GM\n",
      "Pushing scan 'S9hNv5qa7GM' to Hugging Face Hub...\n"
     ]
    },
    {
     "name": "stderr",
     "output_type": "stream",
     "text": [
      "Map: 100%|██████████| 110/110 [00:00<00:00, 133.31 examples/s]it/s]\n",
      "Creating parquet from Arrow format: 100%|██████████| 2/2 [00:00<00:00, 24.04ba/s]\n",
      "Uploading the dataset shards: 100%|██████████| 1/1 [00:03<00:00,  3.52s/it]\n"
     ]
    },
    {
     "name": "stdout",
     "output_type": "stream",
     "text": [
      "✅ Uploaded split: S9hNv5qa7GM\n",
      "\n",
      "[34/90] Processing scan: SN83YJsR3w2\n",
      "Pushing scan 'SN83YJsR3w2' to Hugging Face Hub...\n"
     ]
    },
    {
     "name": "stderr",
     "output_type": "stream",
     "text": [
      "Map: 100%|██████████| 266/266 [00:02<00:00, 122.18 examples/s]it/s]\n",
      "Creating parquet from Arrow format: 100%|██████████| 3/3 [00:00<00:00, 11.33ba/s]\n",
      "Uploading the dataset shards: 100%|██████████| 1/1 [00:07<00:00,  7.69s/it]\n"
     ]
    },
    {
     "name": "stdout",
     "output_type": "stream",
     "text": [
      "✅ Uploaded split: SN83YJsR3w2\n",
      "\n",
      "[35/90] Processing scan: TbHJrupSAjP\n",
      "Pushing scan 'TbHJrupSAjP' to Hugging Face Hub...\n"
     ]
    },
    {
     "name": "stderr",
     "output_type": "stream",
     "text": [
      "Map: 100%|██████████| 114/114 [00:00<00:00, 128.90 examples/s]it/s]\n",
      "Creating parquet from Arrow format: 100%|██████████| 2/2 [00:00<00:00, 22.58ba/s]\n",
      "Uploading the dataset shards: 100%|██████████| 1/1 [00:05<00:00,  5.17s/it]\n"
     ]
    },
    {
     "name": "stdout",
     "output_type": "stream",
     "text": [
      "✅ Uploaded split: TbHJrupSAjP\n",
      "\n",
      "[36/90] Processing scan: ULsKaCPVFJR\n",
      "Pushing scan 'ULsKaCPVFJR' to Hugging Face Hub...\n"
     ]
    },
    {
     "name": "stderr",
     "output_type": "stream",
     "text": [
      "Map: 100%|██████████| 101/101 [00:00<00:00, 126.35 examples/s]it/s]\n",
      "Creating parquet from Arrow format: 100%|██████████| 2/2 [00:00<00:00, 28.21ba/s]\n",
      "Uploading the dataset shards: 100%|██████████| 1/1 [00:06<00:00,  6.48s/it]\n"
     ]
    },
    {
     "name": "stdout",
     "output_type": "stream",
     "text": [
      "✅ Uploaded split: ULsKaCPVFJR\n",
      "\n",
      "[37/90] Processing scan: UwV83HsGsw3\n",
      "Pushing scan 'UwV83HsGsw3' to Hugging Face Hub...\n"
     ]
    },
    {
     "name": "stderr",
     "output_type": "stream",
     "text": [
      "Map: 100%|██████████| 115/115 [00:00<00:00, 134.09 examples/s]it/s]\n",
      "Creating parquet from Arrow format: 100%|██████████| 2/2 [00:00<00:00, 26.44ba/s]\n",
      "Uploading the dataset shards: 100%|██████████| 1/1 [00:03<00:00,  3.59s/it]\n"
     ]
    },
    {
     "name": "stdout",
     "output_type": "stream",
     "text": [
      "✅ Uploaded split: UwV83HsGsw3\n",
      "\n",
      "[38/90] Processing scan: Uxmj2M2itWa\n",
      "Pushing scan 'Uxmj2M2itWa' to Hugging Face Hub...\n"
     ]
    },
    {
     "name": "stderr",
     "output_type": "stream",
     "text": [
      "Map: 100%|██████████| 137/137 [00:01<00:00, 116.85 examples/s]it/s]\n",
      "Creating parquet from Arrow format: 100%|██████████| 2/2 [00:00<00:00, 18.47ba/s]\n",
      "Uploading the dataset shards: 100%|██████████| 1/1 [00:04<00:00,  4.35s/it]\n"
     ]
    },
    {
     "name": "stdout",
     "output_type": "stream",
     "text": [
      "✅ Uploaded split: Uxmj2M2itWa\n",
      "\n",
      "[39/90] Processing scan: V2XKFyX4ASd\n",
      "Pushing scan 'V2XKFyX4ASd' to Hugging Face Hub...\n"
     ]
    },
    {
     "name": "stderr",
     "output_type": "stream",
     "text": [
      "Map: 100%|██████████| 157/157 [00:01<00:00, 108.65 examples/s]it/s]\n",
      "Creating parquet from Arrow format: 100%|██████████| 2/2 [00:00<00:00, 15.09ba/s]\n",
      "Uploading the dataset shards: 100%|██████████| 1/1 [00:05<00:00,  5.30s/it]\n"
     ]
    },
    {
     "name": "stdout",
     "output_type": "stream",
     "text": [
      "✅ Uploaded split: V2XKFyX4ASd\n",
      "\n",
      "[40/90] Processing scan: VFuaQ6m2Qom\n",
      "Pushing scan 'VFuaQ6m2Qom' to Hugging Face Hub...\n"
     ]
    },
    {
     "name": "stderr",
     "output_type": "stream",
     "text": [
      "Map: 100%|██████████| 167/167 [00:01<00:00, 125.05 examples/s]it/s]\n",
      "Creating parquet from Arrow format: 100%|██████████| 2/2 [00:00<00:00, 17.82ba/s]\n",
      "Uploading the dataset shards: 100%|██████████| 1/1 [00:05<00:00,  5.07s/it]\n"
     ]
    },
    {
     "name": "stdout",
     "output_type": "stream",
     "text": [
      "✅ Uploaded split: VFuaQ6m2Qom\n",
      "\n",
      "[41/90] Processing scan: VLzqgDo317F\n",
      "Pushing scan 'VLzqgDo317F' to Hugging Face Hub...\n"
     ]
    },
    {
     "name": "stderr",
     "output_type": "stream",
     "text": [
      "Map: 100%|██████████| 123/123 [00:01<00:00, 106.55 examples/s]it/s]\n",
      "Creating parquet from Arrow format: 100%|██████████| 2/2 [00:00<00:00, 17.23ba/s]\n",
      "Uploading the dataset shards: 100%|██████████| 1/1 [00:04<00:00,  4.92s/it]\n"
     ]
    },
    {
     "name": "stdout",
     "output_type": "stream",
     "text": [
      "✅ Uploaded split: VLzqgDo317F\n",
      "\n",
      "[42/90] Processing scan: VVfe2KiqLaN\n",
      "Pushing scan 'VVfe2KiqLaN' to Hugging Face Hub...\n"
     ]
    },
    {
     "name": "stderr",
     "output_type": "stream",
     "text": [
      "Map: 100%|██████████| 61/61 [00:00<00:00, 116.88 examples/s] ?it/s]\n",
      "Creating parquet from Arrow format: 100%|██████████| 1/1 [00:00<00:00, 24.36ba/s]\n",
      "Uploading the dataset shards: 100%|██████████| 1/1 [00:02<00:00,  2.64s/it]\n"
     ]
    },
    {
     "name": "stdout",
     "output_type": "stream",
     "text": [
      "✅ Uploaded split: VVfe2KiqLaN\n",
      "\n",
      "[43/90] Processing scan: Vt2qJdWjCF2\n",
      "Pushing scan 'Vt2qJdWjCF2' to Hugging Face Hub...\n"
     ]
    },
    {
     "name": "stderr",
     "output_type": "stream",
     "text": [
      "Map: 100%|██████████| 98/98 [00:00<00:00, 128.19 examples/s] ?it/s]\n",
      "Creating parquet from Arrow format: 100%|██████████| 1/1 [00:00<00:00, 20.57ba/s]\n",
      "Uploading the dataset shards: 100%|██████████| 1/1 [00:06<00:00,  6.10s/it]\n"
     ]
    },
    {
     "name": "stdout",
     "output_type": "stream",
     "text": [
      "✅ Uploaded split: Vt2qJdWjCF2\n",
      "\n",
      "[44/90] Processing scan: Vvot9Ly1tCj\n",
      "Pushing scan 'Vvot9Ly1tCj' to Hugging Face Hub...\n"
     ]
    },
    {
     "name": "stderr",
     "output_type": "stream",
     "text": [
      "Map: 100%|██████████| 141/141 [00:01<00:00, 131.66 examples/s]it/s]\n",
      "Creating parquet from Arrow format: 100%|██████████| 2/2 [00:00<00:00, 25.45ba/s]\n",
      "Uploading the dataset shards: 100%|██████████| 1/1 [00:04<00:00,  4.19s/it]\n"
     ]
    },
    {
     "name": "stdout",
     "output_type": "stream",
     "text": [
      "✅ Uploaded split: Vvot9Ly1tCj\n",
      "\n",
      "[45/90] Processing scan: VzqfbhrpDEA\n",
      "Pushing scan 'VzqfbhrpDEA' to Hugging Face Hub...\n"
     ]
    },
    {
     "name": "stderr",
     "output_type": "stream",
     "text": [
      "Map: 100%|██████████| 289/289 [00:02<00:00, 120.02 examples/s]it/s]\n",
      "Creating parquet from Arrow format: 100%|██████████| 3/3 [00:00<00:00, 12.26ba/s]\n",
      "Uploading the dataset shards: 100%|██████████| 1/1 [00:08<00:00,  8.14s/it]\n"
     ]
    },
    {
     "name": "stdout",
     "output_type": "stream",
     "text": [
      "✅ Uploaded split: VzqfbhrpDEA\n",
      "\n",
      "[46/90] Processing scan: WYY7iVyf5p8\n",
      "Pushing scan 'WYY7iVyf5p8' to Hugging Face Hub...\n"
     ]
    },
    {
     "name": "stderr",
     "output_type": "stream",
     "text": [
      "Map: 100%|██████████| 78/78 [00:00<00:00, 131.31 examples/s] ?it/s]\n",
      "Creating parquet from Arrow format: 100%|██████████| 1/1 [00:00<00:00, 26.65ba/s]\n",
      "Uploading the dataset shards: 100%|██████████| 1/1 [00:02<00:00,  2.86s/it]\n"
     ]
    },
    {
     "name": "stdout",
     "output_type": "stream",
     "text": [
      "✅ Uploaded split: WYY7iVyf5p8\n",
      "\n",
      "[47/90] Processing scan: X7HyMhZNoso\n",
      "Pushing scan 'X7HyMhZNoso' to Hugging Face Hub...\n"
     ]
    },
    {
     "name": "stderr",
     "output_type": "stream",
     "text": [
      "Map: 100%|██████████| 84/84 [00:00<00:00, 135.93 examples/s] ?it/s]\n",
      "Creating parquet from Arrow format: 100%|██████████| 1/1 [00:00<00:00, 14.51ba/s]\n",
      "Uploading the dataset shards: 100%|██████████| 1/1 [00:03<00:00,  3.05s/it]\n"
     ]
    },
    {
     "name": "stdout",
     "output_type": "stream",
     "text": [
      "✅ Uploaded split: X7HyMhZNoso\n",
      "\n",
      "[48/90] Processing scan: XcA2TqTSSAj\n",
      "Pushing scan 'XcA2TqTSSAj' to Hugging Face Hub...\n"
     ]
    },
    {
     "name": "stderr",
     "output_type": "stream",
     "text": [
      "Map: 100%|██████████| 109/109 [00:00<00:00, 135.83 examples/s]it/s]\n",
      "Creating parquet from Arrow format: 100%|██████████| 2/2 [00:00<00:00, 26.53ba/s]\n",
      "Uploading the dataset shards: 100%|██████████| 1/1 [00:03<00:00,  3.45s/it]\n"
     ]
    },
    {
     "name": "stdout",
     "output_type": "stream",
     "text": [
      "✅ Uploaded split: XcA2TqTSSAj\n",
      "\n",
      "[49/90] Processing scan: YFuZgdQ5vWj\n",
      "Pushing scan 'YFuZgdQ5vWj' to Hugging Face Hub...\n"
     ]
    },
    {
     "name": "stderr",
     "output_type": "stream",
     "text": [
      "Map: 100%|██████████| 86/86 [00:00<00:00, 131.38 examples/s] ?it/s]\n",
      "Creating parquet from Arrow format: 100%|██████████| 1/1 [00:00<00:00, 12.65ba/s]\n",
      "Uploading the dataset shards: 100%|██████████| 1/1 [00:03<00:00,  3.70s/it]\n"
     ]
    },
    {
     "name": "stdout",
     "output_type": "stream",
     "text": [
      "✅ Uploaded split: YFuZgdQ5vWj\n",
      "\n",
      "[50/90] Processing scan: YVUC4YcDtcY\n",
      "Pushing scan 'YVUC4YcDtcY' to Hugging Face Hub...\n"
     ]
    },
    {
     "name": "stderr",
     "output_type": "stream",
     "text": [
      "Map: 100%|██████████| 46/46 [00:00<00:00, 121.32 examples/s] ?it/s]\n",
      "Creating parquet from Arrow format: 100%|██████████| 1/1 [00:00<00:00, 65.85ba/s]\n",
      "Uploading the dataset shards: 100%|██████████| 1/1 [00:02<00:00,  2.40s/it]\n"
     ]
    },
    {
     "name": "stdout",
     "output_type": "stream",
     "text": [
      "✅ Uploaded split: YVUC4YcDtcY\n",
      "\n",
      "[51/90] Processing scan: YmJkqBEsHnH\n",
      "Pushing scan 'YmJkqBEsHnH' to Hugging Face Hub...\n"
     ]
    },
    {
     "name": "stderr",
     "output_type": "stream",
     "text": [
      "Map: 100%|██████████| 11/11 [00:00<00:00, 105.18 examples/s] ?it/s]\n",
      "Creating parquet from Arrow format: 100%|██████████| 1/1 [00:00<00:00, 270.48ba/s]\n",
      "Uploading the dataset shards: 100%|██████████| 1/1 [00:03<00:00,  3.10s/it]\n"
     ]
    },
    {
     "name": "stdout",
     "output_type": "stream",
     "text": [
      "✅ Uploaded split: YmJkqBEsHnH\n",
      "\n",
      "[52/90] Processing scan: Z6MFQCViBuw\n",
      "Pushing scan 'Z6MFQCViBuw' to Hugging Face Hub...\n"
     ]
    },
    {
     "name": "stderr",
     "output_type": "stream",
     "text": [
      "Map: 100%|██████████| 58/58 [00:00<00:00, 113.45 examples/s] ?it/s]\n",
      "Creating parquet from Arrow format: 100%|██████████| 1/1 [00:00<00:00, 24.84ba/s]\n",
      "Uploading the dataset shards: 100%|██████████| 1/1 [00:03<00:00,  3.15s/it]\n"
     ]
    },
    {
     "name": "stdout",
     "output_type": "stream",
     "text": [
      "✅ Uploaded split: Z6MFQCViBuw\n",
      "\n",
      "[53/90] Processing scan: ZMojNkEp431\n",
      "Pushing scan 'ZMojNkEp431' to Hugging Face Hub...\n"
     ]
    },
    {
     "name": "stderr",
     "output_type": "stream",
     "text": [
      "Map: 100%|██████████| 77/77 [00:00<00:00, 115.49 examples/s] ?it/s]\n",
      "Creating parquet from Arrow format: 100%|██████████| 1/1 [00:00<00:00, 19.17ba/s]\n",
      "Uploading the dataset shards: 100%|██████████| 1/1 [00:06<00:00,  6.79s/it]\n"
     ]
    },
    {
     "name": "stdout",
     "output_type": "stream",
     "text": [
      "✅ Uploaded split: ZMojNkEp431\n",
      "\n",
      "[54/90] Processing scan: aayBHfsNo7d\n",
      "Pushing scan 'aayBHfsNo7d' to Hugging Face Hub...\n"
     ]
    },
    {
     "name": "stderr",
     "output_type": "stream",
     "text": [
      "Map: 100%|██████████| 71/71 [00:00<00:00, 127.42 examples/s] ?it/s]\n",
      "Creating parquet from Arrow format: 100%|██████████| 1/1 [00:00<00:00, 29.30ba/s]\n",
      "Uploading the dataset shards: 100%|██████████| 1/1 [00:02<00:00,  2.79s/it]\n"
     ]
    },
    {
     "name": "stdout",
     "output_type": "stream",
     "text": [
      "✅ Uploaded split: aayBHfsNo7d\n",
      "\n",
      "[55/90] Processing scan: ac26ZMwG7aT\n",
      "Pushing scan 'ac26ZMwG7aT' to Hugging Face Hub...\n"
     ]
    },
    {
     "name": "stderr",
     "output_type": "stream",
     "text": [
      "Map: 100%|██████████| 165/165 [00:01<00:00, 119.69 examples/s]it/s]\n",
      "Creating parquet from Arrow format: 100%|██████████| 2/2 [00:00<00:00, 14.46ba/s]\n",
      "Uploading the dataset shards: 100%|██████████| 1/1 [00:05<00:00,  5.30s/it]\n"
     ]
    },
    {
     "name": "stdout",
     "output_type": "stream",
     "text": [
      "✅ Uploaded split: ac26ZMwG7aT\n",
      "\n",
      "[56/90] Processing scan: b8cTxDM8gDG\n",
      "Pushing scan 'b8cTxDM8gDG' to Hugging Face Hub...\n"
     ]
    },
    {
     "name": "stderr",
     "output_type": "stream",
     "text": [
      "Map: 100%|██████████| 114/114 [00:00<00:00, 127.28 examples/s]it/s]\n",
      "Creating parquet from Arrow format: 100%|██████████| 2/2 [00:00<00:00, 23.93ba/s]\n",
      "Uploading the dataset shards: 100%|██████████| 1/1 [00:03<00:00,  3.62s/it]\n"
     ]
    },
    {
     "name": "stdout",
     "output_type": "stream",
     "text": [
      "✅ Uploaded split: b8cTxDM8gDG\n",
      "\n",
      "[57/90] Processing scan: cV4RVeZvu5T\n",
      "Pushing scan 'cV4RVeZvu5T' to Hugging Face Hub...\n"
     ]
    },
    {
     "name": "stderr",
     "output_type": "stream",
     "text": [
      "Map: 100%|██████████| 90/90 [00:00<00:00, 127.86 examples/s] ?it/s]\n",
      "Creating parquet from Arrow format: 100%|██████████| 1/1 [00:00<00:00, 12.80ba/s]\n",
      "Uploading the dataset shards: 100%|██████████| 1/1 [00:05<00:00,  5.80s/it]\n"
     ]
    },
    {
     "name": "stdout",
     "output_type": "stream",
     "text": [
      "✅ Uploaded split: cV4RVeZvu5T\n",
      "\n",
      "[58/90] Processing scan: dhjEzFoUFzH\n",
      "Pushing scan 'dhjEzFoUFzH' to Hugging Face Hub...\n"
     ]
    },
    {
     "name": "stderr",
     "output_type": "stream",
     "text": [
      "Map: 100%|██████████| 218/218 [00:02<00:00, 105.28 examples/s]it/s]\n",
      "Creating parquet from Arrow format: 100%|██████████| 3/3 [00:00<00:00, 12.12ba/s]\n",
      "Uploading the dataset shards: 100%|██████████| 1/1 [00:07<00:00,  7.74s/it]\n"
     ]
    },
    {
     "name": "stdout",
     "output_type": "stream",
     "text": [
      "✅ Uploaded split: dhjEzFoUFzH\n",
      "\n",
      "[59/90] Processing scan: e9zR4mvMWw7\n",
      "Pushing scan 'e9zR4mvMWw7' to Hugging Face Hub...\n"
     ]
    },
    {
     "name": "stderr",
     "output_type": "stream",
     "text": [
      "Map: 100%|██████████| 87/87 [00:00<00:00, 131.46 examples/s] ?it/s]\n",
      "Creating parquet from Arrow format: 100%|██████████| 1/1 [00:00<00:00, 17.55ba/s]\n",
      "Uploading the dataset shards: 100%|██████████| 1/1 [00:02<00:00,  2.91s/it]\n"
     ]
    },
    {
     "name": "stdout",
     "output_type": "stream",
     "text": [
      "✅ Uploaded split: e9zR4mvMWw7\n",
      "\n",
      "[60/90] Processing scan: fzynW3qQPVF\n",
      "Pushing scan 'fzynW3qQPVF' to Hugging Face Hub...\n"
     ]
    },
    {
     "name": "stderr",
     "output_type": "stream",
     "text": [
      "Map: 100%|██████████| 167/167 [00:01<00:00, 123.59 examples/s]it/s]\n",
      "Creating parquet from Arrow format: 100%|██████████| 2/2 [00:00<00:00, 18.96ba/s]\n",
      "Uploading the dataset shards: 100%|██████████| 1/1 [00:06<00:00,  6.01s/it]\n"
     ]
    },
    {
     "name": "stdout",
     "output_type": "stream",
     "text": [
      "✅ Uploaded split: fzynW3qQPVF\n",
      "\n",
      "[61/90] Processing scan: gTV8FGcVJC9\n",
      "Pushing scan 'gTV8FGcVJC9' to Hugging Face Hub...\n"
     ]
    },
    {
     "name": "stderr",
     "output_type": "stream",
     "text": [
      "Map: 100%|██████████| 231/231 [00:01<00:00, 120.81 examples/s]it/s]\n",
      "Creating parquet from Arrow format: 100%|██████████| 3/3 [00:00<00:00, 16.21ba/s]\n",
      "Uploading the dataset shards: 100%|██████████| 1/1 [00:07<00:00,  7.47s/it]\n"
     ]
    },
    {
     "name": "stdout",
     "output_type": "stream",
     "text": [
      "✅ Uploaded split: gTV8FGcVJC9\n",
      "\n",
      "[62/90] Processing scan: gYvKGZ5eRqb\n",
      "Pushing scan 'gYvKGZ5eRqb' to Hugging Face Hub...\n"
     ]
    },
    {
     "name": "stderr",
     "output_type": "stream",
     "text": [
      "Map: 100%|██████████| 38/38 [00:00<00:00, 106.83 examples/s] ?it/s]\n",
      "Creating parquet from Arrow format: 100%|██████████| 1/1 [00:00<00:00, 48.78ba/s]\n",
      "Uploading the dataset shards: 100%|██████████| 1/1 [00:05<00:00,  5.31s/it]\n"
     ]
    },
    {
     "name": "stdout",
     "output_type": "stream",
     "text": [
      "✅ Uploaded split: gYvKGZ5eRqb\n",
      "\n",
      "[63/90] Processing scan: gZ6f7yhEvPG\n",
      "Pushing scan 'gZ6f7yhEvPG' to Hugging Face Hub...\n"
     ]
    },
    {
     "name": "stderr",
     "output_type": "stream",
     "text": [
      "Map: 100%|██████████| 8/8 [00:00<00:00, 96.53 examples/s]<?, ?it/s]\n",
      "Creating parquet from Arrow format: 100%|██████████| 1/1 [00:00<00:00, 242.68ba/s]\n",
      "Uploading the dataset shards: 100%|██████████| 1/1 [00:01<00:00,  1.63s/it]\n"
     ]
    },
    {
     "name": "stdout",
     "output_type": "stream",
     "text": [
      "✅ Uploaded split: gZ6f7yhEvPG\n",
      "\n",
      "[64/90] Processing scan: gxdoqLR6rwA\n",
      "Pushing scan 'gxdoqLR6rwA' to Hugging Face Hub...\n"
     ]
    },
    {
     "name": "stderr",
     "output_type": "stream",
     "text": [
      "Map: 100%|██████████| 169/169 [00:01<00:00, 104.30 examples/s]it/s]\n",
      "Creating parquet from Arrow format: 100%|██████████| 2/2 [00:00<00:00,  9.46ba/s]\n",
      "Uploading the dataset shards: 100%|██████████| 1/1 [00:06<00:00,  6.04s/it]\n"
     ]
    },
    {
     "name": "stdout",
     "output_type": "stream",
     "text": [
      "✅ Uploaded split: gxdoqLR6rwA\n",
      "\n",
      "[65/90] Processing scan: i5noydFURQK\n",
      "Pushing scan 'i5noydFURQK' to Hugging Face Hub...\n"
     ]
    },
    {
     "name": "stderr",
     "output_type": "stream",
     "text": [
      "Map: 100%|██████████| 56/56 [00:00<00:00, 113.52 examples/s] ?it/s]\n",
      "Creating parquet from Arrow format: 100%|██████████| 1/1 [00:00<00:00, 62.89ba/s]\n",
      "Uploading the dataset shards: 100%|██████████| 1/1 [00:04<00:00,  4.48s/it]\n"
     ]
    },
    {
     "name": "stdout",
     "output_type": "stream",
     "text": [
      "✅ Uploaded split: i5noydFURQK\n",
      "\n",
      "[66/90] Processing scan: jh4fc5c5qoQ\n",
      "Pushing scan 'jh4fc5c5qoQ' to Hugging Face Hub...\n"
     ]
    },
    {
     "name": "stderr",
     "output_type": "stream",
     "text": [
      "Map: 100%|██████████| 48/48 [00:00<00:00, 118.96 examples/s] ?it/s]\n",
      "Creating parquet from Arrow format: 100%|██████████| 1/1 [00:00<00:00, 69.57ba/s]\n",
      "Uploading the dataset shards: 100%|██████████| 1/1 [00:02<00:00,  2.50s/it]\n"
     ]
    },
    {
     "name": "stdout",
     "output_type": "stream",
     "text": [
      "✅ Uploaded split: jh4fc5c5qoQ\n",
      "\n",
      "[67/90] Processing scan: jtcxE69GiFV\n",
      "Pushing scan 'jtcxE69GiFV' to Hugging Face Hub...\n"
     ]
    },
    {
     "name": "stderr",
     "output_type": "stream",
     "text": [
      "Map: 100%|██████████| 147/147 [00:01<00:00, 121.99 examples/s]it/s]\n",
      "Creating parquet from Arrow format: 100%|██████████| 2/2 [00:00<00:00, 22.65ba/s]\n",
      "Uploading the dataset shards: 100%|██████████| 1/1 [00:04<00:00,  4.40s/it]\n"
     ]
    },
    {
     "name": "stdout",
     "output_type": "stream",
     "text": [
      "✅ Uploaded split: jtcxE69GiFV\n",
      "\n",
      "[68/90] Processing scan: kEZ7cmS4wCh\n",
      "Pushing scan 'kEZ7cmS4wCh' to Hugging Face Hub...\n"
     ]
    },
    {
     "name": "stderr",
     "output_type": "stream",
     "text": [
      "Map: 100%|██████████| 199/199 [00:01<00:00, 120.31 examples/s]it/s]\n",
      "Creating parquet from Arrow format: 100%|██████████| 2/2 [00:00<00:00, 14.28ba/s]\n",
      "Uploading the dataset shards: 100%|██████████| 1/1 [00:07<00:00,  7.53s/it]\n"
     ]
    },
    {
     "name": "stdout",
     "output_type": "stream",
     "text": [
      "✅ Uploaded split: kEZ7cmS4wCh\n",
      "\n",
      "[69/90] Processing scan: mJXqzFtmKg4\n",
      "Pushing scan 'mJXqzFtmKg4' to Hugging Face Hub...\n"
     ]
    },
    {
     "name": "stderr",
     "output_type": "stream",
     "text": [
      "Map: 100%|██████████| 189/189 [00:01<00:00, 119.43 examples/s]it/s]\n",
      "Creating parquet from Arrow format: 100%|██████████| 2/2 [00:00<00:00, 10.84ba/s]\n",
      "Uploading the dataset shards: 100%|██████████| 1/1 [00:06<00:00,  6.37s/it]\n"
     ]
    },
    {
     "name": "stdout",
     "output_type": "stream",
     "text": [
      "✅ Uploaded split: mJXqzFtmKg4\n",
      "\n",
      "[70/90] Processing scan: oLBMNvg9in8\n",
      "Pushing scan 'oLBMNvg9in8' to Hugging Face Hub...\n"
     ]
    },
    {
     "name": "stderr",
     "output_type": "stream",
     "text": [
      "Map: 100%|██████████| 111/111 [00:00<00:00, 114.41 examples/s]it/s]\n",
      "Creating parquet from Arrow format: 100%|██████████| 2/2 [00:00<00:00, 17.98ba/s]\n",
      "Uploading the dataset shards: 100%|██████████| 1/1 [00:04<00:00,  4.65s/it]\n"
     ]
    },
    {
     "name": "stdout",
     "output_type": "stream",
     "text": [
      "✅ Uploaded split: oLBMNvg9in8\n",
      "\n",
      "[71/90] Processing scan: p5wJjkQkbXX\n",
      "Pushing scan 'p5wJjkQkbXX' to Hugging Face Hub...\n"
     ]
    },
    {
     "name": "stderr",
     "output_type": "stream",
     "text": [
      "Map: 100%|██████████| 152/152 [00:01<00:00, 120.64 examples/s]it/s]\n",
      "Creating parquet from Arrow format: 100%|██████████| 2/2 [00:00<00:00, 23.15ba/s]\n",
      "Uploading the dataset shards: 100%|██████████| 1/1 [00:04<00:00,  4.66s/it]\n"
     ]
    },
    {
     "name": "stdout",
     "output_type": "stream",
     "text": [
      "✅ Uploaded split: p5wJjkQkbXX\n",
      "\n",
      "[72/90] Processing scan: pLe4wQe7qrG\n",
      "Pushing scan 'pLe4wQe7qrG' to Hugging Face Hub...\n"
     ]
    },
    {
     "name": "stderr",
     "output_type": "stream",
     "text": [
      "Map: 100%|██████████| 31/31 [00:00<00:00, 108.78 examples/s] ?it/s]\n",
      "Creating parquet from Arrow format: 100%|██████████| 1/1 [00:00<00:00, 81.96ba/s]\n",
      "Uploading the dataset shards: 100%|██████████| 1/1 [00:02<00:00,  2.66s/it]\n"
     ]
    },
    {
     "name": "stdout",
     "output_type": "stream",
     "text": [
      "✅ Uploaded split: pLe4wQe7qrG\n",
      "\n",
      "[73/90] Processing scan: pRbA3pwrgk9\n",
      "Pushing scan 'pRbA3pwrgk9' to Hugging Face Hub...\n"
     ]
    },
    {
     "name": "stderr",
     "output_type": "stream",
     "text": [
      "Map: 100%|██████████| 123/123 [00:01<00:00, 122.88 examples/s]it/s]\n",
      "Creating parquet from Arrow format: 100%|██████████| 2/2 [00:00<00:00, 25.02ba/s]\n",
      "Uploading the dataset shards: 100%|██████████| 1/1 [00:04<00:00,  4.18s/it]\n"
     ]
    },
    {
     "name": "stdout",
     "output_type": "stream",
     "text": [
      "✅ Uploaded split: pRbA3pwrgk9\n",
      "\n",
      "[74/90] Processing scan: pa4otMbVnkk\n",
      "Pushing scan 'pa4otMbVnkk' to Hugging Face Hub...\n"
     ]
    },
    {
     "name": "stderr",
     "output_type": "stream",
     "text": [
      "Map: 100%|██████████| 229/229 [00:01<00:00, 119.47 examples/s]it/s]\n",
      "Creating parquet from Arrow format: 100%|██████████| 3/3 [00:00<00:00, 15.35ba/s]\n",
      "Uploading the dataset shards: 100%|██████████| 1/1 [00:06<00:00,  6.99s/it]\n"
     ]
    },
    {
     "name": "stdout",
     "output_type": "stream",
     "text": [
      "✅ Uploaded split: pa4otMbVnkk\n",
      "\n",
      "[75/90] Processing scan: q9vSo1VnCiC\n",
      "Pushing scan 'q9vSo1VnCiC' to Hugging Face Hub...\n"
     ]
    },
    {
     "name": "stderr",
     "output_type": "stream",
     "text": [
      "Map: 100%|██████████| 86/86 [00:00<00:00, 122.59 examples/s] ?it/s]\n",
      "Creating parquet from Arrow format: 100%|██████████| 1/1 [00:00<00:00, 19.75ba/s]\n",
      "Uploading the dataset shards: 100%|██████████| 1/1 [00:05<00:00,  5.42s/it]\n"
     ]
    },
    {
     "name": "stdout",
     "output_type": "stream",
     "text": [
      "✅ Uploaded split: q9vSo1VnCiC\n",
      "\n",
      "[76/90] Processing scan: qoiz87JEwZ2\n",
      "Pushing scan 'qoiz87JEwZ2' to Hugging Face Hub...\n"
     ]
    },
    {
     "name": "stderr",
     "output_type": "stream",
     "text": [
      "Map: 100%|██████████| 131/131 [00:01<00:00, 113.83 examples/s]it/s]\n",
      "Creating parquet from Arrow format: 100%|██████████| 2/2 [00:00<00:00, 19.23ba/s]\n",
      "Uploading the dataset shards: 100%|██████████| 1/1 [00:06<00:00,  6.03s/it]\n"
     ]
    },
    {
     "name": "stdout",
     "output_type": "stream",
     "text": [
      "✅ Uploaded split: qoiz87JEwZ2\n",
      "\n",
      "[77/90] Processing scan: r1Q1Z4BcV1o\n",
      "Pushing scan 'r1Q1Z4BcV1o' to Hugging Face Hub...\n"
     ]
    },
    {
     "name": "stderr",
     "output_type": "stream",
     "text": [
      "Map: 100%|██████████| 114/114 [00:00<00:00, 118.36 examples/s]it/s]\n",
      "Creating parquet from Arrow format: 100%|██████████| 2/2 [00:00<00:00, 20.23ba/s]\n",
      "Uploading the dataset shards: 100%|██████████| 1/1 [00:04<00:00,  4.19s/it]\n"
     ]
    },
    {
     "name": "stdout",
     "output_type": "stream",
     "text": [
      "✅ Uploaded split: r1Q1Z4BcV1o\n",
      "\n",
      "[78/90] Processing scan: r47D5H71a5s\n",
      "Pushing scan 'r47D5H71a5s' to Hugging Face Hub...\n"
     ]
    },
    {
     "name": "stderr",
     "output_type": "stream",
     "text": [
      "Map: 100%|██████████| 61/61 [00:00<00:00, 118.03 examples/s] ?it/s]\n",
      "Creating parquet from Arrow format: 100%|██████████| 1/1 [00:00<00:00, 28.12ba/s]\n",
      "Uploading the dataset shards: 100%|██████████| 1/1 [00:02<00:00,  2.76s/it]\n"
     ]
    },
    {
     "name": "stdout",
     "output_type": "stream",
     "text": [
      "✅ Uploaded split: r47D5H71a5s\n",
      "\n",
      "[79/90] Processing scan: rPc6DW4iMge\n",
      "Pushing scan 'rPc6DW4iMge' to Hugging Face Hub...\n"
     ]
    },
    {
     "name": "stderr",
     "output_type": "stream",
     "text": [
      "Map: 100%|██████████| 118/118 [00:00<00:00, 125.56 examples/s]it/s]\n",
      "Creating parquet from Arrow format: 100%|██████████| 2/2 [00:00<00:00, 34.43ba/s]\n",
      "Uploading the dataset shards: 100%|██████████| 1/1 [00:03<00:00,  3.86s/it]\n"
     ]
    },
    {
     "name": "stdout",
     "output_type": "stream",
     "text": [
      "✅ Uploaded split: rPc6DW4iMge\n",
      "\n",
      "[80/90] Processing scan: rqfALeAoiTq\n",
      "Pushing scan 'rqfALeAoiTq' to Hugging Face Hub...\n"
     ]
    },
    {
     "name": "stderr",
     "output_type": "stream",
     "text": [
      "Map: 100%|██████████| 102/102 [00:00<00:00, 126.24 examples/s]it/s]\n",
      "Creating parquet from Arrow format: 100%|██████████| 2/2 [00:00<00:00, 36.76ba/s]\n",
      "Uploading the dataset shards: 100%|██████████| 1/1 [00:03<00:00,  3.58s/it]\n"
     ]
    },
    {
     "name": "stdout",
     "output_type": "stream",
     "text": [
      "✅ Uploaded split: rqfALeAoiTq\n",
      "\n",
      "[81/90] Processing scan: s8pcmisQ38h\n",
      "Pushing scan 's8pcmisQ38h' to Hugging Face Hub...\n"
     ]
    },
    {
     "name": "stderr",
     "output_type": "stream",
     "text": [
      "Map: 100%|██████████| 50/50 [00:00<00:00, 112.54 examples/s] ?it/s]\n",
      "Creating parquet from Arrow format: 100%|██████████| 1/1 [00:00<00:00, 44.31ba/s]\n",
      "Uploading the dataset shards: 100%|██████████| 1/1 [00:02<00:00,  2.68s/it]\n"
     ]
    },
    {
     "name": "stdout",
     "output_type": "stream",
     "text": [
      "✅ Uploaded split: s8pcmisQ38h\n",
      "\n",
      "[82/90] Processing scan: sKLMLpTHeUy\n",
      "Pushing scan 'sKLMLpTHeUy' to Hugging Face Hub...\n"
     ]
    },
    {
     "name": "stderr",
     "output_type": "stream",
     "text": [
      "Map: 100%|██████████| 127/127 [00:01<00:00, 121.71 examples/s]it/s]\n",
      "Creating parquet from Arrow format: 100%|██████████| 2/2 [00:00<00:00, 30.29ba/s]\n",
      "Uploading the dataset shards: 100%|██████████| 1/1 [00:04<00:00,  4.09s/it]\n"
     ]
    },
    {
     "name": "stdout",
     "output_type": "stream",
     "text": [
      "✅ Uploaded split: sKLMLpTHeUy\n",
      "\n",
      "[83/90] Processing scan: sT4fr6TAbpF\n",
      "Pushing scan 'sT4fr6TAbpF' to Hugging Face Hub...\n"
     ]
    },
    {
     "name": "stderr",
     "output_type": "stream",
     "text": [
      "Map: 100%|██████████| 81/81 [00:00<00:00, 122.47 examples/s] ?it/s]\n",
      "Creating parquet from Arrow format: 100%|██████████| 1/1 [00:00<00:00, 16.87ba/s]\n",
      "Uploading the dataset shards: 100%|██████████| 1/1 [00:03<00:00,  3.53s/it]\n"
     ]
    },
    {
     "name": "stdout",
     "output_type": "stream",
     "text": [
      "✅ Uploaded split: sT4fr6TAbpF\n",
      "\n",
      "[84/90] Processing scan: uNb9QFRL6hY\n",
      "Pushing scan 'uNb9QFRL6hY' to Hugging Face Hub...\n"
     ]
    },
    {
     "name": "stderr",
     "output_type": "stream",
     "text": [
      "Map: 100%|██████████| 213/213 [00:01<00:00, 128.61 examples/s]it/s]\n",
      "Creating parquet from Arrow format: 100%|██████████| 3/3 [00:00<00:00, 22.92ba/s]\n",
      "Uploading the dataset shards: 100%|██████████| 1/1 [00:05<00:00,  5.92s/it]\n"
     ]
    },
    {
     "name": "stdout",
     "output_type": "stream",
     "text": [
      "✅ Uploaded split: uNb9QFRL6hY\n",
      "\n",
      "[85/90] Processing scan: ur6pFq6Qu1A\n",
      "Pushing scan 'ur6pFq6Qu1A' to Hugging Face Hub...\n"
     ]
    },
    {
     "name": "stderr",
     "output_type": "stream",
     "text": [
      "Map: 100%|██████████| 118/118 [00:00<00:00, 125.56 examples/s]it/s]\n",
      "Creating parquet from Arrow format: 100%|██████████| 2/2 [00:00<00:00, 32.20ba/s]\n",
      "Uploading the dataset shards: 100%|██████████| 1/1 [00:03<00:00,  3.80s/it]\n"
     ]
    },
    {
     "name": "stdout",
     "output_type": "stream",
     "text": [
      "✅ Uploaded split: ur6pFq6Qu1A\n",
      "\n",
      "[86/90] Processing scan: vyrNrziPKCB\n",
      "Pushing scan 'vyrNrziPKCB' to Hugging Face Hub...\n"
     ]
    },
    {
     "name": "stderr",
     "output_type": "stream",
     "text": [
      "Map: 100%|██████████| 337/337 [00:02<00:00, 119.52 examples/s]it/s]\n",
      "Creating parquet from Arrow format: 100%|██████████| 4/4 [00:00<00:00, 15.90ba/s]\n",
      "Uploading the dataset shards: 100%|██████████| 1/1 [00:08<00:00,  8.73s/it]\n"
     ]
    },
    {
     "name": "stdout",
     "output_type": "stream",
     "text": [
      "✅ Uploaded split: vyrNrziPKCB\n",
      "\n",
      "[87/90] Processing scan: wc2JMjhGNzB\n",
      "Pushing scan 'wc2JMjhGNzB' to Hugging Face Hub...\n"
     ]
    },
    {
     "name": "stderr",
     "output_type": "stream",
     "text": [
      "Map: 100%|██████████| 169/169 [00:01<00:00, 126.04 examples/s]it/s]\n",
      "Creating parquet from Arrow format: 100%|██████████| 2/2 [00:00<00:00, 18.78ba/s]\n",
      "Uploading the dataset shards: 100%|██████████| 1/1 [00:04<00:00,  4.88s/it]\n"
     ]
    },
    {
     "name": "stdout",
     "output_type": "stream",
     "text": [
      "✅ Uploaded split: wc2JMjhGNzB\n",
      "\n",
      "[88/90] Processing scan: x8F5xyUWy9e\n",
      "Pushing scan 'x8F5xyUWy9e' to Hugging Face Hub...\n"
     ]
    },
    {
     "name": "stderr",
     "output_type": "stream",
     "text": [
      "Map: 100%|██████████| 43/43 [00:00<00:00, 114.24 examples/s] ?it/s]\n",
      "Creating parquet from Arrow format: 100%|██████████| 1/1 [00:00<00:00, 55.28ba/s]\n",
      "Uploading the dataset shards: 100%|██████████| 1/1 [00:02<00:00,  2.39s/it]\n"
     ]
    },
    {
     "name": "stdout",
     "output_type": "stream",
     "text": [
      "✅ Uploaded split: x8F5xyUWy9e\n",
      "\n",
      "[89/90] Processing scan: yqstnuAEVhm\n",
      "Pushing scan 'yqstnuAEVhm' to Hugging Face Hub...\n"
     ]
    },
    {
     "name": "stderr",
     "output_type": "stream",
     "text": [
      "Map: 100%|██████████| 99/99 [00:00<00:00, 110.92 examples/s] ?it/s]\n",
      "Creating parquet from Arrow format: 100%|██████████| 1/1 [00:00<00:00, 19.05ba/s]\n",
      "Uploading the dataset shards: 100%|██████████| 1/1 [00:03<00:00,  3.61s/it]\n"
     ]
    },
    {
     "name": "stdout",
     "output_type": "stream",
     "text": [
      "✅ Uploaded split: yqstnuAEVhm\n",
      "\n",
      "[90/90] Processing scan: zsNo4HB9uLZ\n",
      "Pushing scan 'zsNo4HB9uLZ' to Hugging Face Hub...\n"
     ]
    },
    {
     "name": "stderr",
     "output_type": "stream",
     "text": [
      "Map: 100%|██████████| 53/53 [00:00<00:00, 126.53 examples/s] ?it/s]\n",
      "Creating parquet from Arrow format: 100%|██████████| 1/1 [00:00<00:00, 63.94ba/s]\n",
      "Uploading the dataset shards: 100%|██████████| 1/1 [00:02<00:00,  2.46s/it]\n"
     ]
    },
    {
     "name": "stdout",
     "output_type": "stream",
     "text": [
      "✅ Uploaded split: zsNo4HB9uLZ\n",
      "\n",
      "🎉 Finished uploading all scans!\n"
     ]
    }
   ],
   "source": [
    "repo_id = \"billzhao1030/MP3D_marked_obs\"\n",
    "api = HfApi()\n",
    "api.create_repo(repo_id=repo_id, repo_type=\"dataset\", exist_ok=True)\n",
    "\n",
    "observation_dir = \"../data/marked_obs\"\n",
    "\n",
    "features = Features({\n",
    "    \"scan_id\": Value(\"string\"),\n",
    "    \"viewpoint_id\": Value(\"string\"),\n",
    "    \"left\": Image(),\n",
    "    \"front\": Image(),\n",
    "    \"right\": Image(),\n",
    "    \"back\": Image()\n",
    "})\n",
    "\n",
    "scan_ids = list(set(f.split(\"_\")[0] for f in os.listdir(observation_dir) if f.endswith(\".png\")))\n",
    "scan_ids.sort()\n",
    "\n",
    "for i, scan_id in enumerate(scan_ids):\n",
    "    print(f\"\\n[{i+1}/{len(scan_ids)}] Processing scan: {scan_id}\")\n",
    "    df_scan = load_single_scan(scan_id, observation_dir)\n",
    "    if df_scan is None:\n",
    "        print(f\"Skipping scan {scan_id} due to no valid data.\")\n",
    "        continue\n",
    "\n",
    "    dataset = Dataset.from_pandas(df_scan, features=features)\n",
    "\n",
    "    print(f\"Pushing scan '{scan_id}' to Hugging Face Hub...\")\n",
    "    dataset.push_to_hub(repo_id, split=scan_id)\n",
    "    print(f\"✅ Uploaded split: {scan_id}\")\n",
    "\n",
    "print(\"\\n🎉 Finished uploading all scans!\")\n"
   ]
  }
 ],
 "metadata": {
  "kernelspec": {
   "display_name": "navgpt",
   "language": "python",
   "name": "python3"
  },
  "language_info": {
   "codemirror_mode": {
    "name": "ipython",
    "version": 3
   },
   "file_extension": ".py",
   "mimetype": "text/x-python",
   "name": "python",
   "nbconvert_exporter": "python",
   "pygments_lexer": "ipython3",
   "version": "3.8.19"
  }
 },
 "nbformat": 4,
 "nbformat_minor": 5
}
