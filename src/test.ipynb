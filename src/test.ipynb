{
 "cells": [
  {
   "cell_type": "code",
   "execution_count": 2,
   "id": "c4fa9ae0",
   "metadata": {},
   "outputs": [
    {
     "name": "stdout",
     "output_type": "stream",
     "text": [
      "{'key': 'apple', 'type': 'r2r', 'name': 'bill'}\n"
     ]
    }
   ],
   "source": [
    "a = {\n",
    "    'key': \"apple\",\n",
    "    'type': 'r2r'\n",
    "}\n",
    "\n",
    "b = {\n",
    "    'name': 'bill'\n",
    "}\n",
    "\n",
    "c = {\n",
    "    **a,\n",
    "    **b\n",
    "}\n",
    "\n",
    "print(c)\n"
   ]
  }
 ],
 "metadata": {
  "kernelspec": {
   "display_name": "Python 3",
   "language": "python",
   "name": "python3"
  },
  "language_info": {
   "codemirror_mode": {
    "name": "ipython",
    "version": 3
   },
   "file_extension": ".py",
   "mimetype": "text/x-python",
   "name": "python",
   "nbconvert_exporter": "python",
   "pygments_lexer": "ipython3",
   "version": "3.12.0"
  }
 },
 "nbformat": 4,
 "nbformat_minor": 5
}
