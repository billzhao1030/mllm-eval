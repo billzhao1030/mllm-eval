{
 "cells": [
  {
   "cell_type": "code",
   "execution_count": 8,
   "id": "c4fa9ae0",
   "metadata": {},
   "outputs": [],
   "source": [
    "import re\n",
    "\n",
    "regex = (r\"(?<=Answer:\\s)(-?\\d+(\\.\\d+)?)\")\n",
    "text = \"Answer: 0b22fa63d0f54a529c525afbf2e8bb25\"\n",
    "action_match = re.search(regex, text)\n",
    "\n",
    "tool_input = action_match.group().strip()\n"
   ]
  },
  {
   "cell_type": "code",
   "execution_count": 9,
   "id": "84541784",
   "metadata": {},
   "outputs": [
    {
     "data": {
      "text/plain": [
       "'0'"
      ]
     },
     "execution_count": 9,
     "metadata": {},
     "output_type": "execute_result"
    }
   ],
   "source": [
    "tool_input"
   ]
  }
 ],
 "metadata": {
  "kernelspec": {
   "display_name": "Python 3",
   "language": "python",
   "name": "python3"
  },
  "language_info": {
   "codemirror_mode": {
    "name": "ipython",
    "version": 3
   },
   "file_extension": ".py",
   "mimetype": "text/x-python",
   "name": "python",
   "nbconvert_exporter": "python",
   "pygments_lexer": "ipython3",
   "version": "3.12.2"
  }
 },
 "nbformat": 4,
 "nbformat_minor": 5
}
